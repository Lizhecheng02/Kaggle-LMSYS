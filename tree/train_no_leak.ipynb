{
 "cells": [
  {
   "cell_type": "code",
   "execution_count": null,
   "metadata": {},
   "outputs": [],
   "source": [
    "from utils_prime import load_json, use_tf_idf_vectorizer, use_count_vectorizer, use_tf_idf_vectorizer_for_test\n",
    "from tqdm import tqdm\n",
    "import pandas as pd\n",
    "import pickle\n",
    "import numpy as np\n",
    "from sklearn.model_selection import KFold\n",
    "from sklearn.metrics import log_loss\n",
    "from sklearn.preprocessing import MinMaxScaler\n",
    "import lightgbm as lgb\n",
    "import os\n",
    "import warnings\n",
    "warnings.filterwarnings(\"ignore\")"
   ]
  },
  {
   "cell_type": "code",
   "execution_count": null,
   "metadata": {},
   "outputs": [],
   "source": [
    "sample = 10000"
   ]
  },
  {
   "cell_type": "code",
   "execution_count": null,
   "metadata": {},
   "outputs": [],
   "source": [
    "df = pd.read_csv(\"../data/train.csv\")\n",
    "df = df[:sample]\n",
    "df.head()"
   ]
  },
  {
   "cell_type": "code",
   "execution_count": null,
   "metadata": {},
   "outputs": [],
   "source": [
    "train_pred = pd.read_csv(\"train_pred.csv\")\n",
    "train_pred = train_pred[:sample]\n",
    "train_pred.rename(\n",
    "    {\n",
    "        \"winner_model_a\": \"winner_model_a_pred_prob\", \n",
    "        \"winner_model_b\": \"winner_model_b_pred_prob\", \n",
    "        \"winner_tie\": \"winner_tie_pred_prob\"\n",
    "    }, \n",
    "    axis=1, \n",
    "    inplace=True\n",
    ")\n",
    "print(train_pred.head())\n",
    "print(train_pred.shape)"
   ]
  },
  {
   "cell_type": "code",
   "execution_count": null,
   "metadata": {},
   "outputs": [],
   "source": [
    "df = df.merge(train_pred, on=\"id\", how=\"left\")\n",
    "df.head()"
   ]
  },
  {
   "cell_type": "code",
   "execution_count": null,
   "metadata": {},
   "outputs": [],
   "source": [
    "df.drop(columns=[\"model_a\", \"model_b\"], inplace=True)\n",
    "df[\"label\"] = df.apply(lambda row: 0 if row[\"winner_model_a\"] else (1 if row[\"winner_model_b\"] else 2), axis=1)\n",
    "df.drop(columns=[\"winner_model_a\", \"winner_model_b\", \"winner_tie\"], inplace=True)\n",
    "df.head()"
   ]
  },
  {
   "cell_type": "code",
   "execution_count": null,
   "metadata": {},
   "outputs": [],
   "source": [
    "df = load_json(df)\n",
    "df.head()"
   ]
  },
  {
   "cell_type": "code",
   "execution_count": null,
   "metadata": {},
   "outputs": [],
   "source": [
    "def calculate_length_sum(response):\n",
    "    length_sum = sum(len(s) if s is not None else 0 for s in response)\n",
    "    return length_sum\n",
    "\n",
    "def calculate_total_words(response):\n",
    "    total_words = sum(len(s.split()) if s is not None else 0 for s in response)\n",
    "    return total_words\n",
    "\n",
    "df[\"len_a\"] = df[\"response_a\"].apply(calculate_length_sum)\n",
    "df[\"len_b\"] = df[\"response_b\"].apply(calculate_length_sum)\n",
    "df[\"word_a\"] = df[\"response_a\"].apply(calculate_total_words)\n",
    "df[\"word_b\"] = df[\"response_b\"].apply(calculate_total_words)\n",
    "\n",
    "df.head()"
   ]
  },
  {
   "cell_type": "code",
   "execution_count": null,
   "metadata": {},
   "outputs": [],
   "source": [
    "type(df[\"prompt\"][0])"
   ]
  },
  {
   "cell_type": "code",
   "execution_count": null,
   "metadata": {},
   "outputs": [],
   "source": [
    "def join_strings(string_list):\n",
    "    filtered_list = [s if s else \"NULL\" for s in string_list]\n",
    "    return \" \".join(filtered_list)\n",
    "\n",
    "df[\"prompt\"] = df[\"prompt\"].apply(join_strings)\n",
    "df[\"response_a\"] = df[\"response_a\"].apply(join_strings)\n",
    "df[\"response_b\"] = df[\"response_b\"].apply(join_strings)\n",
    "print(df.dtypes)"
   ]
  },
  {
   "cell_type": "code",
   "execution_count": null,
   "metadata": {},
   "outputs": [],
   "source": [
    "df.head()"
   ]
  },
  {
   "cell_type": "markdown",
   "metadata": {},
   "source": [
    "#### Use LGBM"
   ]
  },
  {
   "cell_type": "code",
   "execution_count": null,
   "metadata": {},
   "outputs": [],
   "source": [
    "if not os.path.exists(\"lgbm_models\"):\n",
    "    os.makedirs(\"lgbm_models\")"
   ]
  },
  {
   "cell_type": "code",
   "execution_count": null,
   "metadata": {},
   "outputs": [],
   "source": [
    "df[\"len_a\"] = df[\"len_a\"].astype(float)\n",
    "df[\"len_b\"] = df[\"len_b\"].astype(float)\n",
    "df[\"word_a\"] = df[\"word_a\"].astype(float)\n",
    "df[\"word_b\"] = df[\"word_b\"].astype(float)\n",
    "\n",
    "n_splits = 10\n",
    "kf = KFold(n_splits=n_splits, shuffle=True, random_state=42)\n",
    "\n",
    "columns_to_normalize = [\"len_a\", \"len_b\", \"word_a\", \"word_b\"]\n",
    "scaler = MinMaxScaler()\n",
    "\n",
    "log_loss_scores = []\n",
    "\n",
    "for idx, (train_index, val_index) in tqdm(enumerate(kf.split(df)), total=n_splits):\n",
    "    print(f\"---------- Fold {idx + 1} ----------\")\n",
    "\n",
    "    copy_df = df.copy()\n",
    "    copy_df[\"concat\"] = copy_df[\"prompt\"] + copy_df[\"response_a\"] + copy_df[\"response_b\"]\n",
    "\n",
    "    X_train = copy_df.iloc[train_index]\n",
    "    X_val = copy_df.iloc[val_index]\n",
    "    \n",
    "    concat_tf_idf_vectorizer, concat_tf_idf_matrix = use_tf_idf_vectorizer(train=X_train, column_name=\"concat\", idx=idx + 1)\n",
    "    print(\"The shape of concat_tf_idf_matrix is:\", concat_tf_idf_matrix.shape)\n",
    "    X_train = X_train.merge(concat_tf_idf_matrix, on=\"id\", how=\"left\")\n",
    "\n",
    "    concat_tf_idf_matrix_val = use_tf_idf_vectorizer_for_test(concat_tf_idf_vectorizer, X_val, column_name=\"concat\", idx=idx + 1)\n",
    "    X_val = X_val.merge(concat_tf_idf_matrix_val, on=\"id\", how=\"left\")\n",
    "\n",
    "    X_train = X_train.drop(columns=[\"id\", \"prompt\", \"response_a\", \"response_b\", \"concat\"])\n",
    "    y_train = X_train[\"label\"]\n",
    "    X_train = X_train.drop(columns=[\"label\"])\n",
    "\n",
    "    X_val = X_val.drop(columns=[\"id\", \"prompt\", \"response_a\", \"response_b\", \"concat\"])\n",
    "    y_val = X_val[\"label\"]\n",
    "    X_val = X_val.drop(columns=[\"label\"])\n",
    "    \n",
    "    X_train.loc[:, columns_to_normalize] = scaler.fit_transform(X_train[columns_to_normalize])\n",
    "    X_val.loc[:, columns_to_normalize] = scaler.transform(X_val[columns_to_normalize])\n",
    "    with open(f\"scalers/scaler_{idx + 1}.pkl\", \"wb\") as f:\n",
    "        pickle.dump(scaler, f)\n",
    "    \n",
    "    params = {\n",
    "        \"objective\": \"multiclass\",\n",
    "        \"num_class\": 3,\n",
    "        \"metric\": \"multi_logloss\",\n",
    "        \"n_estimators\": 3000,\n",
    "        \"learning_rate\": 0.02,\n",
    "        \"colsample_bytree\": 0.7,\n",
    "        \"num_leaves\": 127,\n",
    "        \"max_depth\": 12,\n",
    "        \"verbose\": 1,\n",
    "        \"n_jobs\": -1\n",
    "    }\n",
    "    model = lgb.LGBMClassifier(**params)\n",
    "    early_stopping_callback = lgb.early_stopping(50, first_metric_only=True, verbose=True)\n",
    "\n",
    "    model.fit(\n",
    "        X=X_train, y=y_train,\n",
    "        eval_set=[(X_val, y_val)],\n",
    "        callbacks=[early_stopping_callback]\n",
    "    )\n",
    "    \n",
    "    y_pred = model.predict_proba(X_val, num_iteration=model.best_iteration_)\n",
    "\n",
    "    model.booster_.save_model(f\"./lgbm_models/lgbm_model_fold_{idx + 1}.txt\")\n",
    "\n",
    "    # To load the model\n",
    "    # model = lgb.Booster(model_file=f\"./lgbm_models/lgbm_model_fold_{idx + 1}.txt\")\n",
    "    \n",
    "    score = log_loss(y_val, y_pred)\n",
    "    log_loss_scores.append(score)\n",
    "    \n",
    "    print(f\"Fold {idx + 1} log_loss: {score}\")\n",
    "\n",
    "mean_log_loss = np.mean(log_loss_scores)\n",
    "print(f\"Mean log_loss: {mean_log_loss}\")"
   ]
  }
 ],
 "metadata": {
  "kernelspec": {
   "display_name": "Python 3 (ipykernel)",
   "language": "python",
   "name": "python3"
  },
  "language_info": {
   "codemirror_mode": {
    "name": "ipython",
    "version": 3
   },
   "file_extension": ".py",
   "mimetype": "text/x-python",
   "name": "python",
   "nbconvert_exporter": "python",
   "pygments_lexer": "ipython3",
   "version": "3.10.13"
  }
 },
 "nbformat": 4,
 "nbformat_minor": 4
}
