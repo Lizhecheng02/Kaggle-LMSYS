{
 "cells": [
  {
   "cell_type": "code",
   "execution_count": 1,
   "id": "a7db2267",
   "metadata": {
    "_cell_guid": "b1076dfc-b9ad-4769-8c92-a6c4dae69d19",
    "_uuid": "8f2839f25d086af736a60e9eeb907d3b93b6e0e5",
    "execution": {
     "iopub.execute_input": "2024-06-23T01:54:43.554084Z",
     "iopub.status.busy": "2024-06-23T01:54:43.553684Z",
     "iopub.status.idle": "2024-06-23T01:54:44.436449Z",
     "shell.execute_reply": "2024-06-23T01:54:44.435329Z"
    },
    "papermill": {
     "duration": 0.892376,
     "end_time": "2024-06-23T01:54:44.438787",
     "exception": false,
     "start_time": "2024-06-23T01:54:43.546411",
     "status": "completed"
    },
    "tags": []
   },
   "outputs": [
    {
     "name": "stdout",
     "output_type": "stream",
     "text": [
      "/kaggle/input/lmsys-chatbot-arena/sample_submission.csv\n",
      "/kaggle/input/lmsys-chatbot-arena/train.csv\n",
      "/kaggle/input/lmsys-chatbot-arena/test.csv\n"
     ]
    }
   ],
   "source": [
    "# This Python 3 environment comes with many helpful analytics libraries installed\n",
    "# It is defined by the kaggle/python Docker image: https://github.com/kaggle/docker-python\n",
    "# For example, here's several helpful packages to load\n",
    "\n",
    "import numpy as np # linear algebra\n",
    "import pandas as pd # data processing, CSV file I/O (e.g. pd.read_csv)\n",
    "\n",
    "# Input data files are available in the read-only \"../input/\" directory\n",
    "# For example, running this (by clicking run or pressing Shift+Enter) will list all files under the input directory\n",
    "\n",
    "import os\n",
    "# for dirname, _, filenames in os.walk('/kaggle/input'):\n",
    "#     for filename in filenames:\n",
    "#         print(os.path.join(dirname, filename))\n",
    "\n",
    "# You can write up to 20GB to the current directory (/kaggle/working/) that gets preserved as output when you create a version using \"Save & Run All\" \n",
    "# You can also write temporary files to /kaggle/temp/, but they won't be saved outside of the current session"
   ]
  },
  {
   "cell_type": "code",
   "execution_count": 2,
   "id": "34f05245",
   "metadata": {
    "execution": {
     "iopub.execute_input": "2024-06-23T01:54:44.450095Z",
     "iopub.status.busy": "2024-06-23T01:54:44.449607Z",
     "iopub.status.idle": "2024-06-23T01:54:44.467242Z",
     "shell.execute_reply": "2024-06-23T01:54:44.466216Z"
    },
    "papermill": {
     "duration": 0.026172,
     "end_time": "2024-06-23T01:54:44.469876",
     "exception": false,
     "start_time": "2024-06-23T01:54:44.443704",
     "status": "completed"
    },
    "tags": []
   },
   "outputs": [],
   "source": [
    "from tqdm import tqdm"
   ]
  },
  {
   "cell_type": "code",
   "execution_count": 3,
   "id": "34c44696",
   "metadata": {
    "execution": {
     "iopub.execute_input": "2024-06-23T01:54:44.480982Z",
     "iopub.status.busy": "2024-06-23T01:54:44.480603Z",
     "iopub.status.idle": "2024-06-23T01:54:48.150355Z",
     "shell.execute_reply": "2024-06-23T01:54:48.149339Z"
    },
    "papermill": {
     "duration": 3.67803,
     "end_time": "2024-06-23T01:54:48.152652",
     "exception": false,
     "start_time": "2024-06-23T01:54:44.474622",
     "status": "completed"
    },
    "tags": []
   },
   "outputs": [
    {
     "data": {
      "text/html": [
       "<div>\n",
       "<style scoped>\n",
       "    .dataframe tbody tr th:only-of-type {\n",
       "        vertical-align: middle;\n",
       "    }\n",
       "\n",
       "    .dataframe tbody tr th {\n",
       "        vertical-align: top;\n",
       "    }\n",
       "\n",
       "    .dataframe thead th {\n",
       "        text-align: right;\n",
       "    }\n",
       "</style>\n",
       "<table border=\"1\" class=\"dataframe\">\n",
       "  <thead>\n",
       "    <tr style=\"text-align: right;\">\n",
       "      <th></th>\n",
       "      <th>id</th>\n",
       "      <th>model_a</th>\n",
       "      <th>model_b</th>\n",
       "      <th>prompt</th>\n",
       "      <th>response_a</th>\n",
       "      <th>response_b</th>\n",
       "      <th>winner_model_a</th>\n",
       "      <th>winner_model_b</th>\n",
       "      <th>winner_tie</th>\n",
       "    </tr>\n",
       "  </thead>\n",
       "  <tbody>\n",
       "    <tr>\n",
       "      <th>0</th>\n",
       "      <td>30192</td>\n",
       "      <td>gpt-4-1106-preview</td>\n",
       "      <td>gpt-4-0613</td>\n",
       "      <td>[\"Is it morally right to try to have a certain...</td>\n",
       "      <td>[\"The question of whether it is morally right ...</td>\n",
       "      <td>[\"As an AI, I don't have personal beliefs or o...</td>\n",
       "      <td>1</td>\n",
       "      <td>0</td>\n",
       "      <td>0</td>\n",
       "    </tr>\n",
       "    <tr>\n",
       "      <th>1</th>\n",
       "      <td>53567</td>\n",
       "      <td>koala-13b</td>\n",
       "      <td>gpt-4-0613</td>\n",
       "      <td>[\"What is the difference between marriage lice...</td>\n",
       "      <td>[\"A marriage license is a legal document that ...</td>\n",
       "      <td>[\"A marriage license and a marriage certificat...</td>\n",
       "      <td>0</td>\n",
       "      <td>1</td>\n",
       "      <td>0</td>\n",
       "    </tr>\n",
       "    <tr>\n",
       "      <th>2</th>\n",
       "      <td>65089</td>\n",
       "      <td>gpt-3.5-turbo-0613</td>\n",
       "      <td>mistral-medium</td>\n",
       "      <td>[\"explain function calling. how would you call...</td>\n",
       "      <td>[\"Function calling is the process of invoking ...</td>\n",
       "      <td>[\"Function calling is the process of invoking ...</td>\n",
       "      <td>0</td>\n",
       "      <td>0</td>\n",
       "      <td>1</td>\n",
       "    </tr>\n",
       "    <tr>\n",
       "      <th>3</th>\n",
       "      <td>96401</td>\n",
       "      <td>llama-2-13b-chat</td>\n",
       "      <td>mistral-7b-instruct</td>\n",
       "      <td>[\"How can I create a test set for a very rare ...</td>\n",
       "      <td>[\"Creating a test set for a very rare category...</td>\n",
       "      <td>[\"When building a classifier for a very rare c...</td>\n",
       "      <td>1</td>\n",
       "      <td>0</td>\n",
       "      <td>0</td>\n",
       "    </tr>\n",
       "    <tr>\n",
       "      <th>4</th>\n",
       "      <td>198779</td>\n",
       "      <td>koala-13b</td>\n",
       "      <td>gpt-3.5-turbo-0314</td>\n",
       "      <td>[\"What is the best way to travel from Tel-Aviv...</td>\n",
       "      <td>[\"The best way to travel from Tel Aviv to Jeru...</td>\n",
       "      <td>[\"The best way to travel from Tel-Aviv to Jeru...</td>\n",
       "      <td>0</td>\n",
       "      <td>1</td>\n",
       "      <td>0</td>\n",
       "    </tr>\n",
       "  </tbody>\n",
       "</table>\n",
       "</div>"
      ],
      "text/plain": [
       "       id             model_a              model_b  \\\n",
       "0   30192  gpt-4-1106-preview           gpt-4-0613   \n",
       "1   53567           koala-13b           gpt-4-0613   \n",
       "2   65089  gpt-3.5-turbo-0613       mistral-medium   \n",
       "3   96401    llama-2-13b-chat  mistral-7b-instruct   \n",
       "4  198779           koala-13b   gpt-3.5-turbo-0314   \n",
       "\n",
       "                                              prompt  \\\n",
       "0  [\"Is it morally right to try to have a certain...   \n",
       "1  [\"What is the difference between marriage lice...   \n",
       "2  [\"explain function calling. how would you call...   \n",
       "3  [\"How can I create a test set for a very rare ...   \n",
       "4  [\"What is the best way to travel from Tel-Aviv...   \n",
       "\n",
       "                                          response_a  \\\n",
       "0  [\"The question of whether it is morally right ...   \n",
       "1  [\"A marriage license is a legal document that ...   \n",
       "2  [\"Function calling is the process of invoking ...   \n",
       "3  [\"Creating a test set for a very rare category...   \n",
       "4  [\"The best way to travel from Tel Aviv to Jeru...   \n",
       "\n",
       "                                          response_b  winner_model_a  \\\n",
       "0  [\"As an AI, I don't have personal beliefs or o...               1   \n",
       "1  [\"A marriage license and a marriage certificat...               0   \n",
       "2  [\"Function calling is the process of invoking ...               0   \n",
       "3  [\"When building a classifier for a very rare c...               1   \n",
       "4  [\"The best way to travel from Tel-Aviv to Jeru...               0   \n",
       "\n",
       "   winner_model_b  winner_tie  \n",
       "0               0           0  \n",
       "1               1           0  \n",
       "2               0           1  \n",
       "3               0           0  \n",
       "4               1           0  "
      ]
     },
     "execution_count": 3,
     "metadata": {},
     "output_type": "execute_result"
    }
   ],
   "source": [
    "train = pd.read_csv(\"data/train.csv\")\n",
    "train.head()"
   ]
  },
  {
   "cell_type": "code",
   "execution_count": 4,
   "id": "65a600bf",
   "metadata": {
    "execution": {
     "iopub.execute_input": "2024-06-23T01:54:48.164606Z",
     "iopub.status.busy": "2024-06-23T01:54:48.163776Z",
     "iopub.status.idle": "2024-06-23T01:54:48.170630Z",
     "shell.execute_reply": "2024-06-23T01:54:48.169697Z"
    },
    "papermill": {
     "duration": 0.015015,
     "end_time": "2024-06-23T01:54:48.172733",
     "exception": false,
     "start_time": "2024-06-23T01:54:48.157718",
     "status": "completed"
    },
    "tags": []
   },
   "outputs": [
    {
     "data": {
      "text/plain": [
       "'Construct a rap battle, in the style of Epic Rap Battles of History, with rhyme and meter and personal attacks relevant to each character, between Pikachu and Zeus. Each participant gets 2 verses. There is no announcer and Zeus goes first.'"
      ]
     },
     "execution_count": 4,
     "metadata": {},
     "output_type": "execute_result"
    }
   ],
   "source": [
    "train[\"prompt\"][5][2:-2]"
   ]
  },
  {
   "cell_type": "code",
   "execution_count": 5,
   "id": "5de7ba24",
   "metadata": {
    "execution": {
     "iopub.execute_input": "2024-06-23T01:54:48.184980Z",
     "iopub.status.busy": "2024-06-23T01:54:48.183884Z",
     "iopub.status.idle": "2024-06-23T01:54:48.191078Z",
     "shell.execute_reply": "2024-06-23T01:54:48.189880Z"
    },
    "papermill": {
     "duration": 0.01537,
     "end_time": "2024-06-23T01:54:48.193052",
     "exception": false,
     "start_time": "2024-06-23T01:54:48.177682",
     "status": "completed"
    },
    "tags": []
   },
   "outputs": [
    {
     "data": {
      "text/plain": [
       "\"[Zeus]\\\\nYo, it's the king of the gods on the mic\\\\nI control the skies, the thunder, and the lightning strike\\\\nYou're just a cute little rodent, Pikachu, with a spark\\\\nBut don't get it twisted, I'll leave you in a blur\\\\n\\\\nYou've got electric powers, but I'm the one with the might\\\\nI can summon lightning bolts and make them ignite\\\\nYou can't even compare, you're just a mere mouse\\\\nI'm the ruler of the gods, I'm the one who chooses\\\\n\\\\n[Pikachu]\\\\nYou may be the king of the gods, but I'm the one with the flow\\\\nI've got rhymes that'll make you bow down, Zeus, I'm the boss\\\\nYou may have lightning bolts, but I've got electric charm\\\\nI can shock you with my power, make you feel like you're not in the game\\\\n\\\\nYou may be big and bold, but I'm agile and quick\\\\nI can dodge your bolts and take you down with a single trick\\\\nYou may be powerful, but I'm the true master of the field\\\\nI'll leave you in the dust, Zeus, just you wait and see.\""
      ]
     },
     "execution_count": 5,
     "metadata": {},
     "output_type": "execute_result"
    }
   ],
   "source": [
    "train[\"response_a\"][5][2:-2]"
   ]
  },
  {
   "cell_type": "code",
   "execution_count": 6,
   "id": "e452227b",
   "metadata": {
    "execution": {
     "iopub.execute_input": "2024-06-23T01:54:48.205360Z",
     "iopub.status.busy": "2024-06-23T01:54:48.204462Z",
     "iopub.status.idle": "2024-06-23T01:54:48.211490Z",
     "shell.execute_reply": "2024-06-23T01:54:48.210493Z"
    },
    "papermill": {
     "duration": 0.015436,
     "end_time": "2024-06-23T01:54:48.213573",
     "exception": false,
     "start_time": "2024-06-23T01:54:48.198137",
     "status": "completed"
    },
    "tags": []
   },
   "outputs": [
    {
     "data": {
      "text/plain": [
       "'explain function calling. how would you call a function?'"
      ]
     },
     "execution_count": 6,
     "metadata": {},
     "output_type": "execute_result"
    }
   ],
   "source": [
    "train[\"prompt\"][2].split('\",\"')[0][2:-2]"
   ]
  },
  {
   "cell_type": "code",
   "execution_count": 7,
   "id": "f5816778",
   "metadata": {
    "execution": {
     "iopub.execute_input": "2024-06-23T01:54:48.225991Z",
     "iopub.status.busy": "2024-06-23T01:54:48.225136Z",
     "iopub.status.idle": "2024-06-23T01:54:48.232281Z",
     "shell.execute_reply": "2024-06-23T01:54:48.231198Z"
    },
    "papermill": {
     "duration": 0.015682,
     "end_time": "2024-06-23T01:54:48.234434",
     "exception": false,
     "start_time": "2024-06-23T01:54:48.218752",
     "status": "completed"
    },
    "tags": []
   },
   "outputs": [
    {
     "data": {
      "text/plain": [
       "'The minimal time to get a marriage license and a marriage certificate in California can vary depending on the specific requirements and process in your county. Generally, you can obtain a marriage license and a marriage certificate in California within a few days of applying, but it is best to check with your county clerk\\'s office for the specific requirements and process for your county.\\\\n\\\\nIn some counties, you can obtain a marriage license and a marriage certificate on the same day, while in other counties, you may need to wait a few days. The process typically takes about 30 minutes to complete and you will need to bring identification, such as a driver\\'s license or passport, and proof of your age, such as a birth certificate or a passport.\\\\n\\\\nIt is important to note that some counties in California require a waiting period between the time you obtain the marriage license and the time of the marriage. This waiting period can range from a few days to several weeks, and it is best to check with your county clerk\\'s office for the specific requirements in your county.\"]'"
      ]
     },
     "execution_count": 7,
     "metadata": {},
     "output_type": "execute_result"
    }
   ],
   "source": [
    "train[\"response_a\"][1].split('\",\"')[2]"
   ]
  },
  {
   "cell_type": "code",
   "execution_count": 8,
   "id": "619ee6c9",
   "metadata": {
    "execution": {
     "iopub.execute_input": "2024-06-23T01:54:48.247155Z",
     "iopub.status.busy": "2024-06-23T01:54:48.246432Z",
     "iopub.status.idle": "2024-06-23T01:54:48.253342Z",
     "shell.execute_reply": "2024-06-23T01:54:48.252327Z"
    },
    "papermill": {
     "duration": 0.01579,
     "end_time": "2024-06-23T01:54:48.255508",
     "exception": false,
     "start_time": "2024-06-23T01:54:48.239718",
     "status": "completed"
    },
    "tags": []
   },
   "outputs": [
    {
     "data": {
      "text/plain": [
       "\"A marriage license is a legal document that allows a couple to get married. It is issued by a government agency, such as a county clerk's office or a state government, and is valid for a certain period of time, usually one year. After the marriage has taken place, the couple must obtain a marriage certificate, which is a document that records the marriage and is used to prove that the marriage took place. The marriage certificate is usually issued by the same government agency that issued the marriage license, and it is typically used for legal purposes, such as to change a name on a driver's license or to prove that a couple is married when applying for government benefits.\""
      ]
     },
     "execution_count": 8,
     "metadata": {},
     "output_type": "execute_result"
    }
   ],
   "source": [
    "train[\"response_a\"][1].split('\",\"')[0][2:]"
   ]
  },
  {
   "cell_type": "code",
   "execution_count": 9,
   "id": "c614e1c4",
   "metadata": {
    "execution": {
     "iopub.execute_input": "2024-06-23T01:54:48.268571Z",
     "iopub.status.busy": "2024-06-23T01:54:48.267862Z",
     "iopub.status.idle": "2024-06-23T01:54:53.647026Z",
     "shell.execute_reply": "2024-06-23T01:54:53.645959Z"
    },
    "papermill": {
     "duration": 5.389372,
     "end_time": "2024-06-23T01:54:53.650536",
     "exception": false,
     "start_time": "2024-06-23T01:54:48.261164",
     "status": "completed"
    },
    "tags": []
   },
   "outputs": [
    {
     "name": "stderr",
     "output_type": "stream",
     "text": [
      "  3%|▎         | 2006/57477 [00:00<00:05, 10230.73it/s]"
     ]
    },
    {
     "name": "stdout",
     "output_type": "stream",
     "text": [
      "Error: 207\n",
      "Error: 385\n",
      "Error: 491\n",
      "Error: 763\n",
      "Error: 1763\n",
      "Error: 2530\n"
     ]
    },
    {
     "name": "stderr",
     "output_type": "stream",
     "text": [
      "  7%|▋         | 4236/57477 [00:00<00:04, 10837.51it/s]"
     ]
    },
    {
     "name": "stdout",
     "output_type": "stream",
     "text": [
      "Error: 2648\n",
      "Error: 2770\n",
      "Error: 2989\n",
      "Error: 3152\n",
      "Error: 3774\n",
      "Error: 3951\n",
      "Error: 4165\n",
      "Error: 4197\n",
      "Error: 4348\n"
     ]
    },
    {
     "name": "stderr",
     "output_type": "stream",
     "text": [
      " 13%|█▎        | 7584/57477 [00:00<00:04, 11090.45it/s]"
     ]
    },
    {
     "name": "stdout",
     "output_type": "stream",
     "text": [
      "Error: 5390\n",
      "Error: 6593\n",
      "Error: 6961\n",
      "Error: 7209\n",
      "Error: 7688\n"
     ]
    },
    {
     "name": "stderr",
     "output_type": "stream",
     "text": [
      " 17%|█▋        | 9844/57477 [00:00<00:04, 11203.80it/s]"
     ]
    },
    {
     "name": "stdout",
     "output_type": "stream",
     "text": [
      "Error: 8409\n",
      "Error: 8535\n",
      "Error: 9789\n",
      "Error: 9858\n",
      "Error: 10166\n"
     ]
    },
    {
     "name": "stderr",
     "output_type": "stream",
     "text": [
      " 21%|██        | 12025/57477 [00:01<00:04, 9900.39it/s] "
     ]
    },
    {
     "name": "stdout",
     "output_type": "stream",
     "text": [
      "Error: 10992\n",
      "Error: 11969\n",
      "Error: 12368\n"
     ]
    },
    {
     "name": "stderr",
     "output_type": "stream",
     "text": [
      " 24%|██▍       | 13974/57477 [00:01<00:04, 9380.49it/s]"
     ]
    },
    {
     "name": "stdout",
     "output_type": "stream",
     "text": [
      "Error: 13019\n",
      "Error: 13062\n",
      "Error: 13656\n",
      "Error: 13664\n",
      "Error: 13720\n",
      "Error: 13949\n",
      "Error: 14079\n"
     ]
    },
    {
     "name": "stderr",
     "output_type": "stream",
     "text": [
      " 30%|██▉       | 16991/57477 [00:01<00:04, 9773.56it/s]"
     ]
    },
    {
     "name": "stdout",
     "output_type": "stream",
     "text": [
      "Error: 15153\n",
      "Error: 15805\n",
      "Error: 16055\n",
      "Error: 16282\n",
      "Error: 16643\n",
      "Error: 16662\n",
      "Error: 16879\n",
      "Error: 17181\n",
      "Error: 17192\n",
      "Error: 17295\n"
     ]
    },
    {
     "name": "stderr",
     "output_type": "stream",
     "text": [
      " 33%|███▎      | 19175/57477 [00:01<00:03, 10325.68it/s]"
     ]
    },
    {
     "name": "stdout",
     "output_type": "stream",
     "text": [
      "Error: 17467\n",
      "Error: 17841\n",
      "Error: 18556\n",
      "Error: 18590\n",
      "Error: 18642\n"
     ]
    },
    {
     "name": "stderr",
     "output_type": "stream",
     "text": [
      " 39%|███▉      | 22377/57477 [00:02<00:03, 10351.58it/s]"
     ]
    },
    {
     "name": "stdout",
     "output_type": "stream",
     "text": [
      "Error: 20580\n",
      "Error: 21128\n",
      "Error: 21206\n",
      "Error: 21508\n",
      "Error: 22351\n",
      "Error: 22843\n"
     ]
    },
    {
     "name": "stderr",
     "output_type": "stream",
     "text": [
      " 43%|████▎     | 24580/57477 [00:02<00:03, 10712.48it/s]"
     ]
    },
    {
     "name": "stdout",
     "output_type": "stream",
     "text": [
      "Error: 23376\n",
      "Error: 23436\n",
      "Error: 23523\n",
      "Error: 23881\n",
      "Error: 24132\n",
      "Error: 24466\n",
      "Error: 24976\n",
      "Error: 25302\n",
      "Error: 25339\n",
      "Error: 25351\n",
      "Error: 25628\n",
      "Error: 25709\n"
     ]
    },
    {
     "name": "stderr",
     "output_type": "stream",
     "text": [
      " 49%|████▊     | 27924/57477 [00:02<00:02, 10975.30it/s]"
     ]
    },
    {
     "name": "stdout",
     "output_type": "stream",
     "text": [
      "Error: 26238\n",
      "Error: 28585\n"
     ]
    },
    {
     "name": "stderr",
     "output_type": "stream",
     "text": [
      " 54%|█████▍    | 31312/57477 [00:02<00:02, 11195.87it/s]"
     ]
    },
    {
     "name": "stdout",
     "output_type": "stream",
     "text": [
      "Error: 29203\n",
      "Error: 29535\n",
      "Error: 30519\n",
      "Error: 30665\n",
      "Error: 31516\n"
     ]
    },
    {
     "name": "stderr",
     "output_type": "stream",
     "text": [
      " 58%|█████▊    | 33551/57477 [00:03<00:02, 11128.76it/s]"
     ]
    },
    {
     "name": "stdout",
     "output_type": "stream",
     "text": [
      "Error: 32185\n",
      "Error: 32331\n",
      "Error: 32336\n",
      "Error: 32513\n",
      "Error: 32851\n",
      "Error: 33491\n",
      "Error: 33598\n",
      "Error: 33702\n",
      "Error: 34143\n",
      "Error: 34376\n"
     ]
    },
    {
     "name": "stderr",
     "output_type": "stream",
     "text": [
      " 64%|██████▍   | 36910/57477 [00:03<00:01, 11159.84it/s]"
     ]
    },
    {
     "name": "stdout",
     "output_type": "stream",
     "text": [
      "Error: 34611\n",
      "Error: 35170\n",
      "Error: 35225\n",
      "Error: 35388\n",
      "Error: 36279\n",
      "Error: 36508\n"
     ]
    },
    {
     "name": "stderr",
     "output_type": "stream",
     "text": [
      " 68%|██████▊   | 39139/57477 [00:03<00:01, 11083.62it/s]"
     ]
    },
    {
     "name": "stdout",
     "output_type": "stream",
     "text": [
      "Error: 37285\n",
      "Error: 38153\n",
      "Error: 38227\n"
     ]
    },
    {
     "name": "stderr",
     "output_type": "stream",
     "text": [
      " 72%|███████▏  | 41363/57477 [00:03<00:01, 11074.81it/s]"
     ]
    },
    {
     "name": "stdout",
     "output_type": "stream",
     "text": [
      "Error: 39625\n",
      "Error: 39736\n",
      "Error: 40208\n",
      "Error: 40347\n",
      "Error: 40625\n",
      "Error: 40902\n",
      "Error: 41478\n",
      "Error: 41633\n"
     ]
    },
    {
     "name": "stderr",
     "output_type": "stream",
     "text": [
      " 76%|███████▌  | 43612/57477 [00:04<00:01, 11171.65it/s]"
     ]
    },
    {
     "name": "stdout",
     "output_type": "stream",
     "text": [
      "Error: 42081\n",
      "Error: 42726\n",
      "Error: 43001\n",
      "Error: 43324\n",
      "Error: 43534\n",
      "Error: 43736\n",
      "Error: 44071\n",
      "Error: 44102\n",
      "Error: 44160\n",
      "Error: 44240\n"
     ]
    },
    {
     "name": "stderr",
     "output_type": "stream",
     "text": [
      " 82%|████████▏ | 46960/57477 [00:04<00:00, 11067.10it/s]"
     ]
    },
    {
     "name": "stdout",
     "output_type": "stream",
     "text": [
      "Error: 44894\n",
      "Error: 46083\n",
      "Error: 46543\n",
      "Error: 46633\n"
     ]
    },
    {
     "name": "stderr",
     "output_type": "stream",
     "text": [
      " 86%|████████▌ | 49173/57477 [00:04<00:00, 11005.32it/s]"
     ]
    },
    {
     "name": "stdout",
     "output_type": "stream",
     "text": [
      "Error: 47252\n",
      "Error: 47586\n",
      "Error: 47743\n",
      "Error: 48068\n",
      "Error: 48167\n",
      "Error: 48766\n",
      "Error: 49103\n",
      "Error: 49127\n",
      "Error: 49153\n",
      "Error: 49295\n",
      "Error: 49401\n"
     ]
    },
    {
     "name": "stderr",
     "output_type": "stream",
     "text": [
      " 91%|█████████▏| 52515/57477 [00:04<00:00, 11047.35it/s]"
     ]
    },
    {
     "name": "stdout",
     "output_type": "stream",
     "text": [
      "Error: 50374\n",
      "Error: 51240\n",
      "Error: 51463\n",
      "Error: 51664\n",
      "Error: 51836\n",
      "Error: 52149\n"
     ]
    },
    {
     "name": "stderr",
     "output_type": "stream",
     "text": [
      " 95%|█████████▌| 54759/57477 [00:05<00:00, 11112.15it/s]"
     ]
    },
    {
     "name": "stdout",
     "output_type": "stream",
     "text": [
      "Error: 52680\n",
      "Error: 53194\n",
      "Error: 53281\n",
      "Error: 54087\n",
      "Error: 54096\n",
      "Error: 54765\n",
      "Error: 54931\n",
      "Error: 54952\n"
     ]
    },
    {
     "name": "stderr",
     "output_type": "stream",
     "text": [
      "100%|██████████| 57477/57477 [00:05<00:00, 10726.13it/s]"
     ]
    },
    {
     "name": "stdout",
     "output_type": "stream",
     "text": [
      "Error: 55385\n",
      "Error: 55856\n",
      "Error: 55912\n",
      "Error: 56737\n",
      "Error: 56743\n"
     ]
    },
    {
     "name": "stderr",
     "output_type": "stream",
     "text": [
      "\n"
     ]
    }
   ],
   "source": [
    "output_as = []\n",
    "output_bs = []\n",
    "\n",
    "for idx, row in tqdm(train.iterrows(), total=len(train)):\n",
    "    try:\n",
    "        prompt = row[\"prompt\"]\n",
    "        response_a = row[\"response_a\"]\n",
    "        response_b = row[\"response_b\"]\n",
    "        if prompt.find('\",\"') != -1:\n",
    "            cnt = prompt.count('\",\"')\n",
    "            prompt = row[\"prompt\"].split('\",\"')\n",
    "            response_a = row[\"response_a\"].split('\",\"')\n",
    "            response_b = row[\"response_b\"].split('\",\"')\n",
    "            output_a = \"\"\n",
    "            output_b = \"\"\n",
    "            for sentence_idx in range(cnt + 1):\n",
    "                if sentence_idx == 0:\n",
    "                    output_a += prompt[0][2:].strip() + \"\\n\"\n",
    "                    output_a += response_a[0][2:].strip() + \"\\n\"\n",
    "                    output_b += prompt[0][2:].strip() + \"\\n\"\n",
    "                    output_b += response_b[0][2:].strip() + \"\\n\"\n",
    "                elif sentence_idx == cnt:\n",
    "                    output_a += prompt[sentence_idx][:-2].strip() + \"\\n\"\n",
    "                    output_a += response_a[sentence_idx][:-2].strip() + \"\\n\\n\"\n",
    "                    output_b += prompt[sentence_idx][:-2].strip() + \"\\n\"\n",
    "                    output_b += response_b[sentence_idx][:-2].strip() + \"\\n\\n\"\n",
    "                else:\n",
    "                    output_a += prompt[sentence_idx].strip() + \"\\n\"\n",
    "                    output_a += response_a[sentence_idx].strip() + \"\\n\"\n",
    "                    output_b += prompt[sentence_idx].strip() + \"\\n\"\n",
    "                    output_b += response_b[sentence_idx].strip() + \"\\n\"\n",
    "            output_as.append(output_a)\n",
    "            output_bs.append(output_b)\n",
    "        else:\n",
    "            output_a = row[\"prompt\"][2:-2].strip() + \"\\n\" + row[\"response_a\"][2:-2].strip()\n",
    "            output_b = row[\"prompt\"][2:-2].strip() + \"\\n\" + row[\"response_b\"][2:-2].strip()\n",
    "            output_as.append(output_a)\n",
    "            output_bs.append(output_b)\n",
    "    except:\n",
    "        print(f\"Error: {idx}\")\n",
    "        output_as.append(\" \")\n",
    "        output_bs.append(\" \")"
   ]
  },
  {
   "cell_type": "code",
   "execution_count": 10,
   "id": "db82117e",
   "metadata": {
    "execution": {
     "iopub.execute_input": "2024-06-23T01:54:53.673515Z",
     "iopub.status.busy": "2024-06-23T01:54:53.673142Z",
     "iopub.status.idle": "2024-06-23T01:54:53.698368Z",
     "shell.execute_reply": "2024-06-23T01:54:53.697299Z"
    },
    "papermill": {
     "duration": 0.039603,
     "end_time": "2024-06-23T01:54:53.700910",
     "exception": false,
     "start_time": "2024-06-23T01:54:53.661307",
     "status": "completed"
    },
    "tags": []
   },
   "outputs": [],
   "source": [
    "train[\"full_chat_a\"] = output_as\n",
    "train[\"full_chat_b\"] = output_bs"
   ]
  },
  {
   "cell_type": "code",
   "execution_count": 11,
   "id": "b603c16a",
   "metadata": {
    "execution": {
     "iopub.execute_input": "2024-06-23T01:54:53.725498Z",
     "iopub.status.busy": "2024-06-23T01:54:53.724428Z",
     "iopub.status.idle": "2024-06-23T01:55:03.531168Z",
     "shell.execute_reply": "2024-06-23T01:55:03.529951Z"
    },
    "papermill": {
     "duration": 9.821731,
     "end_time": "2024-06-23T01:55:03.534316",
     "exception": false,
     "start_time": "2024-06-23T01:54:53.712585",
     "status": "completed"
    },
    "tags": []
   },
   "outputs": [],
   "source": [
    "train.to_csv(\"train.csv\", index=False)"
   ]
  },
  {
   "cell_type": "code",
   "execution_count": 12,
   "id": "2fd6a923",
   "metadata": {
    "execution": {
     "iopub.execute_input": "2024-06-23T01:55:03.558707Z",
     "iopub.status.busy": "2024-06-23T01:55:03.557833Z",
     "iopub.status.idle": "2024-06-23T01:55:03.573607Z",
     "shell.execute_reply": "2024-06-23T01:55:03.572570Z"
    },
    "papermill": {
     "duration": 0.030327,
     "end_time": "2024-06-23T01:55:03.576153",
     "exception": false,
     "start_time": "2024-06-23T01:55:03.545826",
     "status": "completed"
    },
    "tags": []
   },
   "outputs": [
    {
     "data": {
      "text/html": [
       "<div>\n",
       "<style scoped>\n",
       "    .dataframe tbody tr th:only-of-type {\n",
       "        vertical-align: middle;\n",
       "    }\n",
       "\n",
       "    .dataframe tbody tr th {\n",
       "        vertical-align: top;\n",
       "    }\n",
       "\n",
       "    .dataframe thead th {\n",
       "        text-align: right;\n",
       "    }\n",
       "</style>\n",
       "<table border=\"1\" class=\"dataframe\">\n",
       "  <thead>\n",
       "    <tr style=\"text-align: right;\">\n",
       "      <th></th>\n",
       "      <th>id</th>\n",
       "      <th>model_a</th>\n",
       "      <th>model_b</th>\n",
       "      <th>prompt</th>\n",
       "      <th>response_a</th>\n",
       "      <th>response_b</th>\n",
       "      <th>winner_model_a</th>\n",
       "      <th>winner_model_b</th>\n",
       "      <th>winner_tie</th>\n",
       "      <th>full_chat_a</th>\n",
       "      <th>full_chat_b</th>\n",
       "    </tr>\n",
       "  </thead>\n",
       "  <tbody>\n",
       "    <tr>\n",
       "      <th>0</th>\n",
       "      <td>30192</td>\n",
       "      <td>gpt-4-1106-preview</td>\n",
       "      <td>gpt-4-0613</td>\n",
       "      <td>[\"Is it morally right to try to have a certain...</td>\n",
       "      <td>[\"The question of whether it is morally right ...</td>\n",
       "      <td>[\"As an AI, I don't have personal beliefs or o...</td>\n",
       "      <td>1</td>\n",
       "      <td>0</td>\n",
       "      <td>0</td>\n",
       "      <td>Is it morally right to try to have a certain p...</td>\n",
       "      <td>Is it morally right to try to have a certain p...</td>\n",
       "    </tr>\n",
       "    <tr>\n",
       "      <th>1</th>\n",
       "      <td>53567</td>\n",
       "      <td>koala-13b</td>\n",
       "      <td>gpt-4-0613</td>\n",
       "      <td>[\"What is the difference between marriage lice...</td>\n",
       "      <td>[\"A marriage license is a legal document that ...</td>\n",
       "      <td>[\"A marriage license and a marriage certificat...</td>\n",
       "      <td>0</td>\n",
       "      <td>1</td>\n",
       "      <td>0</td>\n",
       "      <td>What is the difference between marriage licens...</td>\n",
       "      <td>What is the difference between marriage licens...</td>\n",
       "    </tr>\n",
       "    <tr>\n",
       "      <th>2</th>\n",
       "      <td>65089</td>\n",
       "      <td>gpt-3.5-turbo-0613</td>\n",
       "      <td>mistral-medium</td>\n",
       "      <td>[\"explain function calling. how would you call...</td>\n",
       "      <td>[\"Function calling is the process of invoking ...</td>\n",
       "      <td>[\"Function calling is the process of invoking ...</td>\n",
       "      <td>0</td>\n",
       "      <td>0</td>\n",
       "      <td>1</td>\n",
       "      <td>explain function calling. how would you call a...</td>\n",
       "      <td>explain function calling. how would you call a...</td>\n",
       "    </tr>\n",
       "    <tr>\n",
       "      <th>3</th>\n",
       "      <td>96401</td>\n",
       "      <td>llama-2-13b-chat</td>\n",
       "      <td>mistral-7b-instruct</td>\n",
       "      <td>[\"How can I create a test set for a very rare ...</td>\n",
       "      <td>[\"Creating a test set for a very rare category...</td>\n",
       "      <td>[\"When building a classifier for a very rare c...</td>\n",
       "      <td>1</td>\n",
       "      <td>0</td>\n",
       "      <td>0</td>\n",
       "      <td>How can I create a test set for a very rare ca...</td>\n",
       "      <td>How can I create a test set for a very rare ca...</td>\n",
       "    </tr>\n",
       "    <tr>\n",
       "      <th>4</th>\n",
       "      <td>198779</td>\n",
       "      <td>koala-13b</td>\n",
       "      <td>gpt-3.5-turbo-0314</td>\n",
       "      <td>[\"What is the best way to travel from Tel-Aviv...</td>\n",
       "      <td>[\"The best way to travel from Tel Aviv to Jeru...</td>\n",
       "      <td>[\"The best way to travel from Tel-Aviv to Jeru...</td>\n",
       "      <td>0</td>\n",
       "      <td>1</td>\n",
       "      <td>0</td>\n",
       "      <td>What is the best way to travel from Tel-Aviv t...</td>\n",
       "      <td>What is the best way to travel from Tel-Aviv t...</td>\n",
       "    </tr>\n",
       "  </tbody>\n",
       "</table>\n",
       "</div>"
      ],
      "text/plain": [
       "       id             model_a              model_b  \\\n",
       "0   30192  gpt-4-1106-preview           gpt-4-0613   \n",
       "1   53567           koala-13b           gpt-4-0613   \n",
       "2   65089  gpt-3.5-turbo-0613       mistral-medium   \n",
       "3   96401    llama-2-13b-chat  mistral-7b-instruct   \n",
       "4  198779           koala-13b   gpt-3.5-turbo-0314   \n",
       "\n",
       "                                              prompt  \\\n",
       "0  [\"Is it morally right to try to have a certain...   \n",
       "1  [\"What is the difference between marriage lice...   \n",
       "2  [\"explain function calling. how would you call...   \n",
       "3  [\"How can I create a test set for a very rare ...   \n",
       "4  [\"What is the best way to travel from Tel-Aviv...   \n",
       "\n",
       "                                          response_a  \\\n",
       "0  [\"The question of whether it is morally right ...   \n",
       "1  [\"A marriage license is a legal document that ...   \n",
       "2  [\"Function calling is the process of invoking ...   \n",
       "3  [\"Creating a test set for a very rare category...   \n",
       "4  [\"The best way to travel from Tel Aviv to Jeru...   \n",
       "\n",
       "                                          response_b  winner_model_a  \\\n",
       "0  [\"As an AI, I don't have personal beliefs or o...               1   \n",
       "1  [\"A marriage license and a marriage certificat...               0   \n",
       "2  [\"Function calling is the process of invoking ...               0   \n",
       "3  [\"When building a classifier for a very rare c...               1   \n",
       "4  [\"The best way to travel from Tel-Aviv to Jeru...               0   \n",
       "\n",
       "   winner_model_b  winner_tie  \\\n",
       "0               0           0   \n",
       "1               1           0   \n",
       "2               0           1   \n",
       "3               0           0   \n",
       "4               1           0   \n",
       "\n",
       "                                         full_chat_a  \\\n",
       "0  Is it morally right to try to have a certain p...   \n",
       "1  What is the difference between marriage licens...   \n",
       "2  explain function calling. how would you call a...   \n",
       "3  How can I create a test set for a very rare ca...   \n",
       "4  What is the best way to travel from Tel-Aviv t...   \n",
       "\n",
       "                                         full_chat_b  \n",
       "0  Is it morally right to try to have a certain p...  \n",
       "1  What is the difference between marriage licens...  \n",
       "2  explain function calling. how would you call a...  \n",
       "3  How can I create a test set for a very rare ca...  \n",
       "4  What is the best way to travel from Tel-Aviv t...  "
      ]
     },
     "execution_count": 12,
     "metadata": {},
     "output_type": "execute_result"
    }
   ],
   "source": [
    "train.head()"
   ]
  },
  {
   "cell_type": "code",
   "execution_count": 13,
   "id": "333caf84",
   "metadata": {
    "execution": {
     "iopub.execute_input": "2024-06-23T01:55:03.599538Z",
     "iopub.status.busy": "2024-06-23T01:55:03.599127Z",
     "iopub.status.idle": "2024-06-23T01:55:03.624648Z",
     "shell.execute_reply": "2024-06-23T01:55:03.623459Z"
    },
    "papermill": {
     "duration": 0.040165,
     "end_time": "2024-06-23T01:55:03.627077",
     "exception": false,
     "start_time": "2024-06-23T01:55:03.586912",
     "status": "completed"
    },
    "tags": []
   },
   "outputs": [
    {
     "data": {
      "text/html": [
       "<div>\n",
       "<style scoped>\n",
       "    .dataframe tbody tr th:only-of-type {\n",
       "        vertical-align: middle;\n",
       "    }\n",
       "\n",
       "    .dataframe tbody tr th {\n",
       "        vertical-align: top;\n",
       "    }\n",
       "\n",
       "    .dataframe thead th {\n",
       "        text-align: right;\n",
       "    }\n",
       "</style>\n",
       "<table border=\"1\" class=\"dataframe\">\n",
       "  <thead>\n",
       "    <tr style=\"text-align: right;\">\n",
       "      <th></th>\n",
       "      <th>id</th>\n",
       "      <th>winner_model_a</th>\n",
       "      <th>winner_model_b</th>\n",
       "      <th>winner_tie</th>\n",
       "      <th>full_chat_a</th>\n",
       "      <th>full_chat_b</th>\n",
       "    </tr>\n",
       "  </thead>\n",
       "  <tbody>\n",
       "    <tr>\n",
       "      <th>0</th>\n",
       "      <td>30192</td>\n",
       "      <td>1</td>\n",
       "      <td>0</td>\n",
       "      <td>0</td>\n",
       "      <td>Is it morally right to try to have a certain p...</td>\n",
       "      <td>Is it morally right to try to have a certain p...</td>\n",
       "    </tr>\n",
       "    <tr>\n",
       "      <th>1</th>\n",
       "      <td>53567</td>\n",
       "      <td>0</td>\n",
       "      <td>1</td>\n",
       "      <td>0</td>\n",
       "      <td>What is the difference between marriage licens...</td>\n",
       "      <td>What is the difference between marriage licens...</td>\n",
       "    </tr>\n",
       "    <tr>\n",
       "      <th>2</th>\n",
       "      <td>65089</td>\n",
       "      <td>0</td>\n",
       "      <td>0</td>\n",
       "      <td>1</td>\n",
       "      <td>explain function calling. how would you call a...</td>\n",
       "      <td>explain function calling. how would you call a...</td>\n",
       "    </tr>\n",
       "    <tr>\n",
       "      <th>3</th>\n",
       "      <td>96401</td>\n",
       "      <td>1</td>\n",
       "      <td>0</td>\n",
       "      <td>0</td>\n",
       "      <td>How can I create a test set for a very rare ca...</td>\n",
       "      <td>How can I create a test set for a very rare ca...</td>\n",
       "    </tr>\n",
       "    <tr>\n",
       "      <th>4</th>\n",
       "      <td>198779</td>\n",
       "      <td>0</td>\n",
       "      <td>1</td>\n",
       "      <td>0</td>\n",
       "      <td>What is the best way to travel from Tel-Aviv t...</td>\n",
       "      <td>What is the best way to travel from Tel-Aviv t...</td>\n",
       "    </tr>\n",
       "  </tbody>\n",
       "</table>\n",
       "</div>"
      ],
      "text/plain": [
       "       id  winner_model_a  winner_model_b  winner_tie  \\\n",
       "0   30192               1               0           0   \n",
       "1   53567               0               1           0   \n",
       "2   65089               0               0           1   \n",
       "3   96401               1               0           0   \n",
       "4  198779               0               1           0   \n",
       "\n",
       "                                         full_chat_a  \\\n",
       "0  Is it morally right to try to have a certain p...   \n",
       "1  What is the difference between marriage licens...   \n",
       "2  explain function calling. how would you call a...   \n",
       "3  How can I create a test set for a very rare ca...   \n",
       "4  What is the best way to travel from Tel-Aviv t...   \n",
       "\n",
       "                                         full_chat_b  \n",
       "0  Is it morally right to try to have a certain p...  \n",
       "1  What is the difference between marriage licens...  \n",
       "2  explain function calling. how would you call a...  \n",
       "3  How can I create a test set for a very rare ca...  \n",
       "4  What is the best way to travel from Tel-Aviv t...  "
      ]
     },
     "execution_count": 13,
     "metadata": {},
     "output_type": "execute_result"
    }
   ],
   "source": [
    "train.drop(columns=[\"model_a\", \"model_b\", \"prompt\", \"response_a\", \"response_b\"], axis=1, inplace=True)\n",
    "train.head()"
   ]
  },
  {
   "cell_type": "code",
   "execution_count": 14,
   "id": "0663c937",
   "metadata": {
    "execution": {
     "iopub.execute_input": "2024-06-23T01:55:03.651907Z",
     "iopub.status.busy": "2024-06-23T01:55:03.651523Z",
     "iopub.status.idle": "2024-06-23T01:55:04.257302Z",
     "shell.execute_reply": "2024-06-23T01:55:04.255860Z"
    },
    "papermill": {
     "duration": 0.620733,
     "end_time": "2024-06-23T01:55:04.259555",
     "exception": false,
     "start_time": "2024-06-23T01:55:03.638822",
     "status": "completed"
    },
    "tags": []
   },
   "outputs": [
    {
     "data": {
      "text/html": [
       "<div>\n",
       "<style scoped>\n",
       "    .dataframe tbody tr th:only-of-type {\n",
       "        vertical-align: middle;\n",
       "    }\n",
       "\n",
       "    .dataframe tbody tr th {\n",
       "        vertical-align: top;\n",
       "    }\n",
       "\n",
       "    .dataframe thead th {\n",
       "        text-align: right;\n",
       "    }\n",
       "</style>\n",
       "<table border=\"1\" class=\"dataframe\">\n",
       "  <thead>\n",
       "    <tr style=\"text-align: right;\">\n",
       "      <th></th>\n",
       "      <th>id</th>\n",
       "      <th>winner_model_a</th>\n",
       "      <th>winner_model_b</th>\n",
       "      <th>winner_tie</th>\n",
       "      <th>full_chat_a</th>\n",
       "      <th>full_chat_b</th>\n",
       "      <th>label</th>\n",
       "    </tr>\n",
       "  </thead>\n",
       "  <tbody>\n",
       "    <tr>\n",
       "      <th>0</th>\n",
       "      <td>30192</td>\n",
       "      <td>1</td>\n",
       "      <td>0</td>\n",
       "      <td>0</td>\n",
       "      <td>Is it morally right to try to have a certain p...</td>\n",
       "      <td>Is it morally right to try to have a certain p...</td>\n",
       "      <td>0</td>\n",
       "    </tr>\n",
       "    <tr>\n",
       "      <th>1</th>\n",
       "      <td>53567</td>\n",
       "      <td>0</td>\n",
       "      <td>1</td>\n",
       "      <td>0</td>\n",
       "      <td>What is the difference between marriage licens...</td>\n",
       "      <td>What is the difference between marriage licens...</td>\n",
       "      <td>1</td>\n",
       "    </tr>\n",
       "    <tr>\n",
       "      <th>2</th>\n",
       "      <td>65089</td>\n",
       "      <td>0</td>\n",
       "      <td>0</td>\n",
       "      <td>1</td>\n",
       "      <td>explain function calling. how would you call a...</td>\n",
       "      <td>explain function calling. how would you call a...</td>\n",
       "      <td>2</td>\n",
       "    </tr>\n",
       "    <tr>\n",
       "      <th>3</th>\n",
       "      <td>96401</td>\n",
       "      <td>1</td>\n",
       "      <td>0</td>\n",
       "      <td>0</td>\n",
       "      <td>How can I create a test set for a very rare ca...</td>\n",
       "      <td>How can I create a test set for a very rare ca...</td>\n",
       "      <td>0</td>\n",
       "    </tr>\n",
       "    <tr>\n",
       "      <th>4</th>\n",
       "      <td>198779</td>\n",
       "      <td>0</td>\n",
       "      <td>1</td>\n",
       "      <td>0</td>\n",
       "      <td>What is the best way to travel from Tel-Aviv t...</td>\n",
       "      <td>What is the best way to travel from Tel-Aviv t...</td>\n",
       "      <td>1</td>\n",
       "    </tr>\n",
       "  </tbody>\n",
       "</table>\n",
       "</div>"
      ],
      "text/plain": [
       "       id  winner_model_a  winner_model_b  winner_tie  \\\n",
       "0   30192               1               0           0   \n",
       "1   53567               0               1           0   \n",
       "2   65089               0               0           1   \n",
       "3   96401               1               0           0   \n",
       "4  198779               0               1           0   \n",
       "\n",
       "                                         full_chat_a  \\\n",
       "0  Is it morally right to try to have a certain p...   \n",
       "1  What is the difference between marriage licens...   \n",
       "2  explain function calling. how would you call a...   \n",
       "3  How can I create a test set for a very rare ca...   \n",
       "4  What is the best way to travel from Tel-Aviv t...   \n",
       "\n",
       "                                         full_chat_b  label  \n",
       "0  Is it morally right to try to have a certain p...      0  \n",
       "1  What is the difference between marriage licens...      1  \n",
       "2  explain function calling. how would you call a...      2  \n",
       "3  How can I create a test set for a very rare ca...      0  \n",
       "4  What is the best way to travel from Tel-Aviv t...      1  "
      ]
     },
     "execution_count": 14,
     "metadata": {},
     "output_type": "execute_result"
    }
   ],
   "source": [
    "train[\"label\"] = train.apply(lambda row: 0 if row[\"winner_model_a\"] == 1 else (1 if row[\"winner_model_b\"] == 1 else 2), axis=1)\n",
    "train.head()"
   ]
  },
  {
   "cell_type": "code",
   "execution_count": 15,
   "id": "83e47239",
   "metadata": {
    "execution": {
     "iopub.execute_input": "2024-06-23T01:55:04.284487Z",
     "iopub.status.busy": "2024-06-23T01:55:04.284055Z",
     "iopub.status.idle": "2024-06-23T01:55:04.303993Z",
     "shell.execute_reply": "2024-06-23T01:55:04.302977Z"
    },
    "papermill": {
     "duration": 0.035341,
     "end_time": "2024-06-23T01:55:04.306346",
     "exception": false,
     "start_time": "2024-06-23T01:55:04.271005",
     "status": "completed"
    },
    "tags": []
   },
   "outputs": [
    {
     "data": {
      "text/html": [
       "<div>\n",
       "<style scoped>\n",
       "    .dataframe tbody tr th:only-of-type {\n",
       "        vertical-align: middle;\n",
       "    }\n",
       "\n",
       "    .dataframe tbody tr th {\n",
       "        vertical-align: top;\n",
       "    }\n",
       "\n",
       "    .dataframe thead th {\n",
       "        text-align: right;\n",
       "    }\n",
       "</style>\n",
       "<table border=\"1\" class=\"dataframe\">\n",
       "  <thead>\n",
       "    <tr style=\"text-align: right;\">\n",
       "      <th></th>\n",
       "      <th>id</th>\n",
       "      <th>full_chat_a</th>\n",
       "      <th>full_chat_b</th>\n",
       "      <th>label</th>\n",
       "    </tr>\n",
       "  </thead>\n",
       "  <tbody>\n",
       "    <tr>\n",
       "      <th>0</th>\n",
       "      <td>30192</td>\n",
       "      <td>Is it morally right to try to have a certain p...</td>\n",
       "      <td>Is it morally right to try to have a certain p...</td>\n",
       "      <td>0</td>\n",
       "    </tr>\n",
       "    <tr>\n",
       "      <th>1</th>\n",
       "      <td>53567</td>\n",
       "      <td>What is the difference between marriage licens...</td>\n",
       "      <td>What is the difference between marriage licens...</td>\n",
       "      <td>1</td>\n",
       "    </tr>\n",
       "    <tr>\n",
       "      <th>2</th>\n",
       "      <td>65089</td>\n",
       "      <td>explain function calling. how would you call a...</td>\n",
       "      <td>explain function calling. how would you call a...</td>\n",
       "      <td>2</td>\n",
       "    </tr>\n",
       "    <tr>\n",
       "      <th>3</th>\n",
       "      <td>96401</td>\n",
       "      <td>How can I create a test set for a very rare ca...</td>\n",
       "      <td>How can I create a test set for a very rare ca...</td>\n",
       "      <td>0</td>\n",
       "    </tr>\n",
       "    <tr>\n",
       "      <th>4</th>\n",
       "      <td>198779</td>\n",
       "      <td>What is the best way to travel from Tel-Aviv t...</td>\n",
       "      <td>What is the best way to travel from Tel-Aviv t...</td>\n",
       "      <td>1</td>\n",
       "    </tr>\n",
       "  </tbody>\n",
       "</table>\n",
       "</div>"
      ],
      "text/plain": [
       "       id                                        full_chat_a  \\\n",
       "0   30192  Is it morally right to try to have a certain p...   \n",
       "1   53567  What is the difference between marriage licens...   \n",
       "2   65089  explain function calling. how would you call a...   \n",
       "3   96401  How can I create a test set for a very rare ca...   \n",
       "4  198779  What is the best way to travel from Tel-Aviv t...   \n",
       "\n",
       "                                         full_chat_b  label  \n",
       "0  Is it morally right to try to have a certain p...      0  \n",
       "1  What is the difference between marriage licens...      1  \n",
       "2  explain function calling. how would you call a...      2  \n",
       "3  How can I create a test set for a very rare ca...      0  \n",
       "4  What is the best way to travel from Tel-Aviv t...      1  "
      ]
     },
     "execution_count": 15,
     "metadata": {},
     "output_type": "execute_result"
    }
   ],
   "source": [
    "train.drop(columns=[\"winner_model_a\", \"winner_model_b\", \"winner_tie\"], axis=1, inplace=True)\n",
    "train.head()"
   ]
  },
  {
   "cell_type": "code",
   "execution_count": 16,
   "id": "0d7b10e6",
   "metadata": {
    "execution": {
     "iopub.execute_input": "2024-06-23T01:55:04.331193Z",
     "iopub.status.busy": "2024-06-23T01:55:04.330757Z",
     "iopub.status.idle": "2024-06-23T01:55:09.485539Z",
     "shell.execute_reply": "2024-06-23T01:55:09.484106Z"
    },
    "papermill": {
     "duration": 5.171,
     "end_time": "2024-06-23T01:55:09.488965",
     "exception": false,
     "start_time": "2024-06-23T01:55:04.317965",
     "status": "completed"
    },
    "tags": []
   },
   "outputs": [],
   "source": [
    "train.to_csv(\"data/simplest train version.csv\", index=False)"
   ]
  },
  {
   "cell_type": "code",
   "execution_count": 17,
   "id": "784fbddc",
   "metadata": {
    "execution": {
     "iopub.execute_input": "2024-06-23T01:55:09.522922Z",
     "iopub.status.busy": "2024-06-23T01:55:09.522477Z",
     "iopub.status.idle": "2024-06-23T01:55:09.619223Z",
     "shell.execute_reply": "2024-06-23T01:55:09.618235Z"
    },
    "papermill": {
     "duration": 0.114814,
     "end_time": "2024-06-23T01:55:09.621806",
     "exception": false,
     "start_time": "2024-06-23T01:55:09.506992",
     "status": "completed"
    },
    "tags": []
   },
   "outputs": [],
   "source": [
    "train[:1000].to_csv(\"data/sample train.csv\", index=False)"
   ]
  }
 ],
 "metadata": {
  "kaggle": {
   "accelerator": "none",
   "dataSources": [
    {
     "databundleVersionId": 8346466,
     "sourceId": 66631,
     "sourceType": "competition"
    }
   ],
   "dockerImageVersionId": 30698,
   "isGpuEnabled": false,
   "isInternetEnabled": true,
   "language": "python",
   "sourceType": "notebook"
  },
  "kernelspec": {
   "display_name": "Python 3",
   "language": "python",
   "name": "python3"
  },
  "language_info": {
   "codemirror_mode": {
    "name": "ipython",
    "version": 3
   },
   "file_extension": ".py",
   "mimetype": "text/x-python",
   "name": "python",
   "nbconvert_exporter": "python",
   "pygments_lexer": "ipython3",
   "version": "3.10.13"
  },
  "papermill": {
   "default_parameters": {},
   "duration": 29.396579,
   "end_time": "2024-06-23T01:55:10.154324",
   "environment_variables": {},
   "exception": null,
   "input_path": "__notebook__.ipynb",
   "output_path": "__notebook__.ipynb",
   "parameters": {},
   "start_time": "2024-06-23T01:54:40.757745",
   "version": "2.5.0"
  }
 },
 "nbformat": 4,
 "nbformat_minor": 5
}
