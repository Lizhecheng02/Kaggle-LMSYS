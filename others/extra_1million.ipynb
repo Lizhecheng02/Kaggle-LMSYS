{
 "cells": [
  {
   "cell_type": "code",
   "execution_count": null,
   "id": "ff429e24-5f9d-4831-9ba1-5ba117054301",
   "metadata": {},
   "outputs": [],
   "source": [
    "from tqdm import tqdm\n",
    "import pandas as pd\n",
    "import json\n",
    "import warnings\n",
    "warnings.filterwarnings(\"ignore\")"
   ]
  },
  {
   "cell_type": "code",
   "execution_count": null,
   "id": "7a055ce5-e97a-465c-b3ab-8b2fcf5389a1",
   "metadata": {},
   "outputs": [],
   "source": [
    "data = pd.read_parquet(\"train-00005-of-00006-fe1acc5d10a9f0e2.parquet\")"
   ]
  },
  {
   "cell_type": "code",
   "execution_count": null,
   "id": "0f644b5b-470f-46dd-9129-6f206fa2df81",
   "metadata": {},
   "outputs": [],
   "source": [
    "data"
   ]
  },
  {
   "cell_type": "code",
   "execution_count": null,
   "id": "2cee1272-974c-4bf6-83b5-1e4eeb241f12",
   "metadata": {},
   "outputs": [],
   "source": [
    "data[\"openai_moderation\"][0]"
   ]
  },
  {
   "cell_type": "code",
   "execution_count": null,
   "id": "3f64f5ff-1d69-4276-85e5-ca0f215a8b6f",
   "metadata": {},
   "outputs": [],
   "source": [
    "for key, value in data.openai_moderation.values[0][0]['categories'].items():\n",
    "    print(value)"
   ]
  },
  {
   "cell_type": "code",
   "execution_count": null,
   "id": "725fff0c-4803-49a5-b0d5-7bd12b1ff289",
   "metadata": {},
   "outputs": [],
   "source": [
    "def separate_conv(conv):\n",
    "    try:\n",
    "        user_texts = [x['content'] for x in conv if x['role'] == 'user']\n",
    "        assistant_texts = [x['content'] for x in conv if x['role'] == 'assistant']\n",
    "        assert len(user_texts) == len(assistant_texts)\n",
    "        return user_texts, assistant_texts\n",
    "    except:\n",
    "        print(conv)\n",
    "        \n",
    "data['prompt'], data['response'] = zip(*data.conversation.apply(separate_conv))"
   ]
  },
  {
   "cell_type": "code",
   "execution_count": null,
   "id": "ab039144-4945-458a-901d-b21d55685396",
   "metadata": {
    "scrolled": true
   },
   "outputs": [],
   "source": [
    "def separate_categories(data):\n",
    "    try:\n",
    "        c = data[0]['categories']\n",
    "        categories = 'Good'\n",
    "        for key, value in c.items():\n",
    "            if value == 1:\n",
    "                return key\n",
    "        return categories\n",
    "    except:\n",
    "        print(data)\n",
    "        \n",
    "data['categories']= data.openai_moderation.apply(separate_categories)"
   ]
  },
  {
   "cell_type": "code",
   "execution_count": null,
   "id": "feacad2d-b6f0-4ad7-86b1-1930e9c6926f",
   "metadata": {},
   "outputs": [],
   "source": [
    "data"
   ]
  },
  {
   "cell_type": "code",
   "execution_count": null,
   "id": "3873016a-b184-42c5-90c8-06843cd1fc52",
   "metadata": {},
   "outputs": [],
   "source": [
    "data = data.loc[data.language == 'English'].reset_index(drop=True)"
   ]
  },
  {
   "cell_type": "code",
   "execution_count": null,
   "id": "38135f40-224e-4663-a424-d9eb740541e4",
   "metadata": {},
   "outputs": [],
   "source": [
    "data"
   ]
  },
  {
   "cell_type": "code",
   "execution_count": null,
   "id": "2216159e-df25-4b7d-8a98-8513796c0b0e",
   "metadata": {},
   "outputs": [],
   "source": [
    "e_data = data.explode(['prompt','response']).reset_index(drop=True)\n",
    "all_prompt_list = e_data.prompt.unique().tolist()"
   ]
  },
  {
   "cell_type": "code",
   "execution_count": null,
   "id": "ab761e0a-47ef-4a4d-8e82-3aebc2020de2",
   "metadata": {},
   "outputs": [],
   "source": [
    "e_data"
   ]
  },
  {
   "cell_type": "code",
   "execution_count": null,
   "id": "a7f6cdb4-db6b-4229-93a5-1a30ded809df",
   "metadata": {},
   "outputs": [],
   "source": [
    "len(all_prompt_list)"
   ]
  },
  {
   "cell_type": "code",
   "execution_count": null,
   "id": "97ab9f99-f966-42bd-8071-d0bff5c9e998",
   "metadata": {},
   "outputs": [],
   "source": [
    "all_prompt_list[0]"
   ]
  },
  {
   "cell_type": "code",
   "execution_count": null,
   "id": "a9e72771-f936-4b35-b588-c7e06677b58c",
   "metadata": {},
   "outputs": [],
   "source": [
    "ex_33 = pd.read_csv(\"lmsys-chatbot_arena_conversations-33k_clean.csv\")\n",
    "explode_33 = ex_33.explode(['prompt', 'response_a', 'response_b']).reset_index(drop = True)"
   ]
  },
  {
   "cell_type": "code",
   "execution_count": null,
   "id": "447a0adb-60e0-4b11-ad25-5bef9a35808f",
   "metadata": {},
   "outputs": [],
   "source": [
    "explode_33"
   ]
  },
  {
   "cell_type": "code",
   "execution_count": null,
   "id": "cbeeb2c0-b1ab-4b04-b8f2-c06a53670b96",
   "metadata": {},
   "outputs": [],
   "source": [
    "explode_33.prompt.values.tolist()[0], type(explode_33.prompt.values.tolist()[0])"
   ]
  },
  {
   "cell_type": "code",
   "execution_count": null,
   "id": "b8f76964-792e-4deb-8ac4-4cda66425085",
   "metadata": {},
   "outputs": [],
   "source": [
    "explode_33.prompt.values.tolist()[0][2:-2]"
   ]
  },
  {
   "cell_type": "code",
   "execution_count": null,
   "id": "8ebce3ff-f907-4780-885c-58613f16b0ef",
   "metadata": {},
   "outputs": [],
   "source": [
    "explode_33[\"prompt\"] = explode_33[\"prompt\"].apply(lambda x: x[2:-2])"
   ]
  },
  {
   "cell_type": "code",
   "execution_count": null,
   "id": "94855c4a-8274-4e29-bb77-fb6524984880",
   "metadata": {},
   "outputs": [],
   "source": [
    "explode_33[\"prompt\"]"
   ]
  },
  {
   "cell_type": "code",
   "execution_count": null,
   "id": "e5d0e606-7098-4b22-af31-06620956ea9f",
   "metadata": {},
   "outputs": [],
   "source": [
    "explode_33.prompt.values.tolist()[1]"
   ]
  },
  {
   "cell_type": "code",
   "execution_count": null,
   "id": "1d7328d9-ef34-4487-ac87-b9983319eaa2",
   "metadata": {},
   "outputs": [],
   "source": [
    "#都出现过的prompt\n",
    "same_prompt = [i for idx, i in enumerate(all_prompt_list) if i in explode_33.prompt.values.tolist()]\n",
    "len(same_prompt)"
   ]
  },
  {
   "cell_type": "code",
   "execution_count": null,
   "id": "b793a8a4-2ab6-43d7-a260-053abae39350",
   "metadata": {},
   "outputs": [],
   "source": [
    "#获取对应的id，提取数据\n",
    "con_id = e_data.loc[e_data.prompt.isin(same_prompt), 'conversation_id'].unique().tolist()"
   ]
  },
  {
   "cell_type": "code",
   "execution_count": null,
   "id": "6af3f0fa-5e6d-48b1-9a45-8e22abcfa18f",
   "metadata": {},
   "outputs": [],
   "source": [
    "#有着相同prompt的数据\n",
    "final = data.loc[data.conversation_id.isin(con_id)].reset_index(drop=True)"
   ]
  },
  {
   "cell_type": "code",
   "execution_count": null,
   "id": "cec0c6e1-b309-4513-ae28-81a4932d8e81",
   "metadata": {},
   "outputs": [],
   "source": [
    "prompt_count = final.prompt.value_counts().reset_index()"
   ]
  },
  {
   "cell_type": "code",
   "execution_count": null,
   "id": "edd9f129-c455-42ce-9e34-926b01974ba1",
   "metadata": {},
   "outputs": [],
   "source": [
    "prompt_count"
   ]
  },
  {
   "cell_type": "code",
   "execution_count": null,
   "id": "c501a8a4-0c30-46b8-b3cb-f903a61a8a43",
   "metadata": {},
   "outputs": [],
   "source": [
    "idx = (prompt_count['count'] <= 36) & (prompt_count['count'] >= 2)\n",
    "prompt_count_more_than = prompt_count.loc[idx].reset_index(drop=True)\n",
    "prompt_count_more_than"
   ]
  },
  {
   "cell_type": "code",
   "execution_count": null,
   "id": "48148f8e-73c4-46de-9e04-c2e979dd8dbc",
   "metadata": {},
   "outputs": [],
   "source": [
    "use_prompt_list = prompt_count_more_than.prompt.tolist()\n",
    "use_data = final.loc[final.prompt.isin(use_prompt_list)].reset_index(drop=True)\n",
    "use_data"
   ]
  },
  {
   "cell_type": "code",
   "execution_count": null,
   "id": "e167071f-dae8-4b70-9230-f1a4f7681170",
   "metadata": {},
   "outputs": [],
   "source": [
    "use_data[\"prompt\"][0], type(use_data[\"prompt\"][0])"
   ]
  },
  {
   "cell_type": "code",
   "execution_count": null,
   "id": "bff14574-e94b-40fb-8139-ecdf6bdf59dd",
   "metadata": {},
   "outputs": [],
   "source": [
    "use_prompt_list[0], type(use_prompt_list[0])"
   ]
  },
  {
   "cell_type": "code",
   "execution_count": null,
   "id": "f950d01b-78e6-4dfc-ad7e-6bbabe56318b",
   "metadata": {},
   "outputs": [],
   "source": [
    "len(use_prompt_list)"
   ]
  },
  {
   "cell_type": "code",
   "execution_count": null,
   "id": "a17e3cf9-cee5-47b8-8d1a-1514045b2749",
   "metadata": {},
   "outputs": [],
   "source": [
    "use_data[\"categories\"].value_counts()"
   ]
  },
  {
   "cell_type": "code",
   "execution_count": null,
   "id": "b7b8d803-c0a1-4a76-aba1-f1d12710dbe3",
   "metadata": {},
   "outputs": [],
   "source": [
    "new_data = pd.DataFrame(columns=['id', 'prompt', 'model_a', 'model_b', 'response_a', 'response_b', 'categories'])\n",
    "\n",
    "for use_prompt in tqdm(use_prompt_list, total=len(use_prompt_list)):\n",
    "    temp_use_data = use_data[use_data[\"prompt\"].apply(lambda x: x == use_prompt)]\n",
    "    temp_use_data.reset_index(drop=True, inplace=True)\n",
    "    temp_use_data.loc[:, \"tuple_response\"] = temp_use_data.loc[:, \"response\"].apply(tuple)\n",
    "    temp_use_data.drop_duplicates(subset=[\"model\", \"tuple_response\"])\n",
    "    for first_idx, first_row in temp_use_data.iterrows():\n",
    "        for second_idx, second_row in temp_use_data.iterrows():\n",
    "            if second_idx <= first_idx:\n",
    "                continue\n",
    "            else:\n",
    "                if first_row[\"categories\"] == \"Good\" and second_row[\"categories\"] == \"Good\":\n",
    "                    category = \"Both Good\"\n",
    "                elif first_row[\"categories\"] != \"Good\" and second_row[\"categories\"] == \"Good\":\n",
    "                    category = \"First Bad\"\n",
    "                elif first_row[\"categories\"] == \"Good\" and second_row[\"categories\"] != \"Good\":\n",
    "                    category = \"Second Bad\"\n",
    "                elif first_row[\"categories\"] != \"Good\" and second_row[\"categories\"] != \"Good\":\n",
    "                    category = \"Both Bad\"\n",
    "                new_row = {\n",
    "                    \"id\": 1,\n",
    "                    \"prompt\": second_row[\"prompt\"],\n",
    "                    \"model_a\": first_row[\"model\"],\n",
    "                    \"model_b\": second_row[\"model\"],\n",
    "                    \"response_a\": first_row[\"response\"],\n",
    "                    \"response_b\": second_row[\"response\"],\n",
    "                    \"categories\": category\n",
    "                }\n",
    "                new_row_df = pd.DataFrame([new_row], columns=new_data.columns)\n",
    "                new_data = pd.concat([new_data, new_row_df], ignore_index=True)\n",
    "\n",
    "new_data.head()"
   ]
  },
  {
   "cell_type": "code",
   "execution_count": null,
   "id": "b2f5ecee-8556-43e7-973c-dc6d4199aaea",
   "metadata": {},
   "outputs": [],
   "source": [
    "new_data.shape"
   ]
  },
  {
   "cell_type": "code",
   "execution_count": null,
   "id": "e594d982-3f7d-4622-896c-d6dfbffb2cf6",
   "metadata": {},
   "outputs": [],
   "source": [
    "new_data[\"id\"] = range(len(new_data))\n",
    "new_data.head()"
   ]
  },
  {
   "cell_type": "code",
   "execution_count": null,
   "id": "7d0e2ff8-8acf-4bfd-9467-cec240e90b4e",
   "metadata": {},
   "outputs": [],
   "source": [
    "new_data[\"response_a\"][0], type(new_data[\"response_a\"][0])"
   ]
  },
  {
   "cell_type": "code",
   "execution_count": null,
   "id": "8d8ccf6b-789d-4175-92e6-a330cdfcb0bf",
   "metadata": {},
   "outputs": [],
   "source": [
    "json_string = json.dumps(new_data[\"response_a\"][0])\n",
    "print(json_string)\n",
    "parsed_list = json.loads(json_string)\n",
    "print(parsed_list)"
   ]
  },
  {
   "cell_type": "code",
   "execution_count": null,
   "id": "fc7aa98a-6770-40ad-b340-50e139e4a6b7",
   "metadata": {},
   "outputs": [],
   "source": [
    "def ensure_json_loads(input_list):\n",
    "    return json.dumps(input_list)"
   ]
  },
  {
   "cell_type": "code",
   "execution_count": null,
   "id": "3b945074-845b-4f3d-aa1d-eade1a5c3a8e",
   "metadata": {},
   "outputs": [],
   "source": [
    "new_data.loc[:, \"prompt\"] = new_data[\"prompt\"].apply(ensure_json_loads)\n",
    "new_data.loc[:, \"response_a\"] = new_data[\"response_a\"].apply(ensure_json_loads)\n",
    "new_data.loc[:, \"response_b\"] = new_data[\"response_b\"].apply(ensure_json_loads)\n",
    "new_data.head()"
   ]
  },
  {
   "cell_type": "code",
   "execution_count": null,
   "id": "cb39c1a7-c6ad-4cad-bf7c-c793a717aeb1",
   "metadata": {},
   "outputs": [],
   "source": [
    "new_data[\"response_a\"][0], type(new_data[\"response_a\"][0])"
   ]
  },
  {
   "cell_type": "code",
   "execution_count": null,
   "id": "8f2d8d75-8e73-4128-96f4-9998c4f3ecda",
   "metadata": {},
   "outputs": [],
   "source": [
    "new_data.to_parquet(\"Split6.parquet\", index=False)"
   ]
  },
  {
   "cell_type": "code",
   "execution_count": null,
   "id": "8fb9f549-2669-4976-8ead-e3a6743013d7",
   "metadata": {},
   "outputs": [],
   "source": [
    "pd.read_parquet(\"Split6.parquet\")"
   ]
  }
 ],
 "metadata": {
  "kernelspec": {
   "display_name": "Python 3 (ipykernel)",
   "language": "python",
   "name": "python3"
  },
  "language_info": {
   "codemirror_mode": {
    "name": "ipython",
    "version": 3
   },
   "file_extension": ".py",
   "mimetype": "text/x-python",
   "name": "python",
   "nbconvert_exporter": "python",
   "pygments_lexer": "ipython3",
   "version": "3.10.13"
  }
 },
 "nbformat": 4,
 "nbformat_minor": 5
}
