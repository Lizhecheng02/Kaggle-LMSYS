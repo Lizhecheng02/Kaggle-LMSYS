{
 "cells": [
  {
   "cell_type": "code",
   "execution_count": null,
   "metadata": {},
   "outputs": [],
   "source": [
    "import pandas as pd"
   ]
  },
  {
   "cell_type": "code",
   "execution_count": null,
   "metadata": {},
   "outputs": [],
   "source": [
    "df1 = pd.read_parquet(\"Split1.parquet\")\n",
    "df2 = pd.read_parquet(\"Split2.parquet\")\n",
    "df3 = pd.read_parquet(\"Split3.parquet\")\n",
    "df4 = pd.read_parquet(\"Split4.parquet\")\n",
    "df5 = pd.read_parquet(\"Split5.parquet\")\n",
    "df6 = pd.read_parquet(\"Split6.parquet\")\n",
    "\n",
    "df = pd.concat([df1, df2, df3, df4, df5, df6])\n",
    "df.shape"
   ]
  }
 ],
 "metadata": {
  "kernelspec": {
   "display_name": "base",
   "language": "python",
   "name": "python3"
  },
  "language_info": {
   "codemirror_mode": {
    "name": "ipython",
    "version": 3
   },
   "file_extension": ".py",
   "mimetype": "text/x-python",
   "name": "python",
   "nbconvert_exporter": "python",
   "pygments_lexer": "ipython3",
   "version": "3.10.9"
  }
 },
 "nbformat": 4,
 "nbformat_minor": 2
}
